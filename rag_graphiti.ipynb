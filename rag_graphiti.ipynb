{
 "cells": [
  {
   "cell_type": "markdown",
   "metadata": {},
   "source": [
    "# Query table colume relationships \n",
    "\n",
    "\n",
    "## Install dependencies\n",
    "```shell\n",
    "pip install graphiti-core langchain-openai langgraph ipywidgets\n",
    "```\n",
    "\n",
    "Ensure that you've followed the Graphiti installation instructions. In particular, installation of `neo4j`."
   ]
  },
  {
   "cell_type": "code",
   "execution_count": 1,
   "metadata": {},
   "outputs": [
    {
     "name": "stdout",
     "output_type": "stream",
     "text": [
      "Requirement already satisfied: graphiti-core in c:\\users\\bison\\anaconda3\\envs\\python3-11\\lib\\site-packages (0.12.4)\n",
      "Requirement already satisfied: langchain-openai in c:\\users\\bison\\anaconda3\\envs\\python3-11\\lib\\site-packages (0.3.24)\n",
      "Requirement already satisfied: langgraph in c:\\users\\bison\\anaconda3\\envs\\python3-11\\lib\\site-packages (0.4.8)\n",
      "Requirement already satisfied: ipywidgets in c:\\users\\bison\\anaconda3\\envs\\python3-11\\lib\\site-packages (8.1.7)\n",
      "Requirement already satisfied: diskcache>=5.6.3 in c:\\users\\bison\\anaconda3\\envs\\python3-11\\lib\\site-packages (from graphiti-core) (5.6.3)\n",
      "Requirement already satisfied: neo4j>=5.26.0 in c:\\users\\bison\\anaconda3\\envs\\python3-11\\lib\\site-packages (from graphiti-core) (5.28.1)\n",
      "Requirement already satisfied: numpy>=1.0.0 in c:\\users\\bison\\anaconda3\\envs\\python3-11\\lib\\site-packages (from graphiti-core) (1.26.4)\n",
      "Requirement already satisfied: openai>=1.53.0 in c:\\users\\bison\\anaconda3\\envs\\python3-11\\lib\\site-packages (from graphiti-core) (1.88.0)\n",
      "Requirement already satisfied: pydantic>=2.11.5 in c:\\users\\bison\\anaconda3\\envs\\python3-11\\lib\\site-packages (from graphiti-core) (2.11.7)\n",
      "Requirement already satisfied: python-dotenv>=1.0.1 in c:\\users\\bison\\anaconda3\\envs\\python3-11\\lib\\site-packages (from graphiti-core) (1.1.0)\n",
      "Requirement already satisfied: tenacity>=9.0.0 in c:\\users\\bison\\anaconda3\\envs\\python3-11\\lib\\site-packages (from graphiti-core) (9.1.2)\n",
      "Requirement already satisfied: langchain-core<1.0.0,>=0.3.65 in c:\\users\\bison\\anaconda3\\envs\\python3-11\\lib\\site-packages (from langchain-openai) (0.3.65)\n",
      "Requirement already satisfied: tiktoken<1,>=0.7 in c:\\users\\bison\\anaconda3\\envs\\python3-11\\lib\\site-packages (from langchain-openai) (0.9.0)\n",
      "Requirement already satisfied: langsmith<0.4,>=0.3.45 in c:\\users\\bison\\anaconda3\\envs\\python3-11\\lib\\site-packages (from langchain-core<1.0.0,>=0.3.65->langchain-openai) (0.3.45)\n",
      "Requirement already satisfied: jsonpatch<2.0,>=1.33 in c:\\users\\bison\\anaconda3\\envs\\python3-11\\lib\\site-packages (from langchain-core<1.0.0,>=0.3.65->langchain-openai) (1.33)\n",
      "Requirement already satisfied: PyYAML>=5.3 in c:\\users\\bison\\anaconda3\\envs\\python3-11\\lib\\site-packages (from langchain-core<1.0.0,>=0.3.65->langchain-openai) (6.0.1)\n",
      "Requirement already satisfied: packaging<25,>=23.2 in c:\\users\\bison\\anaconda3\\envs\\python3-11\\lib\\site-packages (from langchain-core<1.0.0,>=0.3.65->langchain-openai) (23.2)\n",
      "Requirement already satisfied: typing-extensions>=4.7 in c:\\users\\bison\\anaconda3\\envs\\python3-11\\lib\\site-packages (from langchain-core<1.0.0,>=0.3.65->langchain-openai) (4.12.2)\n",
      "Requirement already satisfied: jsonpointer>=1.9 in c:\\users\\bison\\anaconda3\\envs\\python3-11\\lib\\site-packages (from jsonpatch<2.0,>=1.33->langchain-core<1.0.0,>=0.3.65->langchain-openai) (3.0.0)\n",
      "Requirement already satisfied: httpx<1,>=0.23.0 in c:\\users\\bison\\anaconda3\\envs\\python3-11\\lib\\site-packages (from langsmith<0.4,>=0.3.45->langchain-core<1.0.0,>=0.3.65->langchain-openai) (0.28.1)\n",
      "Requirement already satisfied: orjson<4.0.0,>=3.9.14 in c:\\users\\bison\\anaconda3\\envs\\python3-11\\lib\\site-packages (from langsmith<0.4,>=0.3.45->langchain-core<1.0.0,>=0.3.65->langchain-openai) (3.10.16)\n",
      "Requirement already satisfied: requests<3,>=2 in c:\\users\\bison\\anaconda3\\envs\\python3-11\\lib\\site-packages (from langsmith<0.4,>=0.3.45->langchain-core<1.0.0,>=0.3.65->langchain-openai) (2.32.3)\n",
      "Requirement already satisfied: requests-toolbelt<2.0.0,>=1.0.0 in c:\\users\\bison\\anaconda3\\envs\\python3-11\\lib\\site-packages (from langsmith<0.4,>=0.3.45->langchain-core<1.0.0,>=0.3.65->langchain-openai) (1.0.0)\n",
      "Requirement already satisfied: zstandard<0.24.0,>=0.23.0 in c:\\users\\bison\\anaconda3\\envs\\python3-11\\lib\\site-packages (from langsmith<0.4,>=0.3.45->langchain-core<1.0.0,>=0.3.65->langchain-openai) (0.23.0)\n",
      "Requirement already satisfied: anyio in c:\\users\\bison\\anaconda3\\envs\\python3-11\\lib\\site-packages (from httpx<1,>=0.23.0->langsmith<0.4,>=0.3.45->langchain-core<1.0.0,>=0.3.65->langchain-openai) (4.7.0)\n",
      "Requirement already satisfied: certifi in c:\\users\\bison\\anaconda3\\envs\\python3-11\\lib\\site-packages (from httpx<1,>=0.23.0->langsmith<0.4,>=0.3.45->langchain-core<1.0.0,>=0.3.65->langchain-openai) (2024.12.14)\n",
      "Requirement already satisfied: httpcore==1.* in c:\\users\\bison\\anaconda3\\envs\\python3-11\\lib\\site-packages (from httpx<1,>=0.23.0->langsmith<0.4,>=0.3.45->langchain-core<1.0.0,>=0.3.65->langchain-openai) (1.0.7)\n",
      "Requirement already satisfied: idna in c:\\users\\bison\\anaconda3\\envs\\python3-11\\lib\\site-packages (from httpx<1,>=0.23.0->langsmith<0.4,>=0.3.45->langchain-core<1.0.0,>=0.3.65->langchain-openai) (3.10)\n",
      "Requirement already satisfied: h11<0.15,>=0.13 in c:\\users\\bison\\anaconda3\\envs\\python3-11\\lib\\site-packages (from httpcore==1.*->httpx<1,>=0.23.0->langsmith<0.4,>=0.3.45->langchain-core<1.0.0,>=0.3.65->langchain-openai) (0.14.0)\n",
      "Requirement already satisfied: distro<2,>=1.7.0 in c:\\users\\bison\\anaconda3\\envs\\python3-11\\lib\\site-packages (from openai>=1.53.0->graphiti-core) (1.9.0)\n",
      "Requirement already satisfied: jiter<1,>=0.4.0 in c:\\users\\bison\\anaconda3\\envs\\python3-11\\lib\\site-packages (from openai>=1.53.0->graphiti-core) (0.10.0)\n",
      "Requirement already satisfied: sniffio in c:\\users\\bison\\anaconda3\\envs\\python3-11\\lib\\site-packages (from openai>=1.53.0->graphiti-core) (1.3.1)\n",
      "Requirement already satisfied: tqdm>4 in c:\\users\\bison\\anaconda3\\envs\\python3-11\\lib\\site-packages (from openai>=1.53.0->graphiti-core) (4.67.1)\n",
      "Requirement already satisfied: annotated-types>=0.6.0 in c:\\users\\bison\\anaconda3\\envs\\python3-11\\lib\\site-packages (from pydantic>=2.11.5->graphiti-core) (0.7.0)\n",
      "Requirement already satisfied: pydantic-core==2.33.2 in c:\\users\\bison\\anaconda3\\envs\\python3-11\\lib\\site-packages (from pydantic>=2.11.5->graphiti-core) (2.33.2)\n",
      "Requirement already satisfied: typing-inspection>=0.4.0 in c:\\users\\bison\\anaconda3\\envs\\python3-11\\lib\\site-packages (from pydantic>=2.11.5->graphiti-core) (0.4.1)\n",
      "Requirement already satisfied: charset-normalizer<4,>=2 in c:\\users\\bison\\anaconda3\\envs\\python3-11\\lib\\site-packages (from requests<3,>=2->langsmith<0.4,>=0.3.45->langchain-core<1.0.0,>=0.3.65->langchain-openai) (3.4.0)\n",
      "Requirement already satisfied: urllib3<3,>=1.21.1 in c:\\users\\bison\\anaconda3\\envs\\python3-11\\lib\\site-packages (from requests<3,>=2->langsmith<0.4,>=0.3.45->langchain-core<1.0.0,>=0.3.65->langchain-openai) (2.3.0)\n",
      "Requirement already satisfied: regex>=2022.1.18 in c:\\users\\bison\\anaconda3\\envs\\python3-11\\lib\\site-packages (from tiktoken<1,>=0.7->langchain-openai) (2024.11.6)\n",
      "Requirement already satisfied: langgraph-checkpoint>=2.0.26 in c:\\users\\bison\\anaconda3\\envs\\python3-11\\lib\\site-packages (from langgraph) (2.1.0)\n",
      "Requirement already satisfied: langgraph-prebuilt>=0.2.0 in c:\\users\\bison\\anaconda3\\envs\\python3-11\\lib\\site-packages (from langgraph) (0.2.2)\n",
      "Requirement already satisfied: langgraph-sdk>=0.1.42 in c:\\users\\bison\\anaconda3\\envs\\python3-11\\lib\\site-packages (from langgraph) (0.1.70)\n",
      "Requirement already satisfied: xxhash>=3.5.0 in c:\\users\\bison\\anaconda3\\envs\\python3-11\\lib\\site-packages (from langgraph) (3.5.0)\n",
      "Requirement already satisfied: comm>=0.1.3 in c:\\users\\bison\\anaconda3\\envs\\python3-11\\lib\\site-packages (from ipywidgets) (0.2.2)\n",
      "Requirement already satisfied: ipython>=6.1.0 in c:\\users\\bison\\anaconda3\\envs\\python3-11\\lib\\site-packages (from ipywidgets) (9.2.0)\n",
      "Requirement already satisfied: traitlets>=4.3.1 in c:\\users\\bison\\anaconda3\\envs\\python3-11\\lib\\site-packages (from ipywidgets) (5.14.3)\n",
      "Requirement already satisfied: widgetsnbextension~=4.0.14 in c:\\users\\bison\\anaconda3\\envs\\python3-11\\lib\\site-packages (from ipywidgets) (4.0.14)\n",
      "Requirement already satisfied: jupyterlab_widgets~=3.0.15 in c:\\users\\bison\\anaconda3\\envs\\python3-11\\lib\\site-packages (from ipywidgets) (3.0.15)\n",
      "Requirement already satisfied: colorama in c:\\users\\bison\\anaconda3\\envs\\python3-11\\lib\\site-packages (from ipython>=6.1.0->ipywidgets) (0.4.6)\n",
      "Requirement already satisfied: decorator in c:\\users\\bison\\anaconda3\\envs\\python3-11\\lib\\site-packages (from ipython>=6.1.0->ipywidgets) (5.2.1)\n",
      "Requirement already satisfied: ipython-pygments-lexers in c:\\users\\bison\\anaconda3\\envs\\python3-11\\lib\\site-packages (from ipython>=6.1.0->ipywidgets) (1.1.1)\n",
      "Requirement already satisfied: jedi>=0.16 in c:\\users\\bison\\anaconda3\\envs\\python3-11\\lib\\site-packages (from ipython>=6.1.0->ipywidgets) (0.19.2)\n",
      "Requirement already satisfied: matplotlib-inline in c:\\users\\bison\\anaconda3\\envs\\python3-11\\lib\\site-packages (from ipython>=6.1.0->ipywidgets) (0.1.7)\n",
      "Requirement already satisfied: prompt_toolkit<3.1.0,>=3.0.41 in c:\\users\\bison\\anaconda3\\envs\\python3-11\\lib\\site-packages (from ipython>=6.1.0->ipywidgets) (3.0.50)\n",
      "Requirement already satisfied: pygments>=2.4.0 in c:\\users\\bison\\anaconda3\\envs\\python3-11\\lib\\site-packages (from ipython>=6.1.0->ipywidgets) (2.18.0)\n",
      "Requirement already satisfied: stack_data in c:\\users\\bison\\anaconda3\\envs\\python3-11\\lib\\site-packages (from ipython>=6.1.0->ipywidgets) (0.6.3)\n",
      "Requirement already satisfied: wcwidth in c:\\users\\bison\\anaconda3\\envs\\python3-11\\lib\\site-packages (from prompt_toolkit<3.1.0,>=3.0.41->ipython>=6.1.0->ipywidgets) (0.2.13)\n",
      "Requirement already satisfied: parso<0.9.0,>=0.8.4 in c:\\users\\bison\\anaconda3\\envs\\python3-11\\lib\\site-packages (from jedi>=0.16->ipython>=6.1.0->ipywidgets) (0.8.4)\n",
      "Requirement already satisfied: ormsgpack>=1.10.0 in c:\\users\\bison\\anaconda3\\envs\\python3-11\\lib\\site-packages (from langgraph-checkpoint>=2.0.26->langgraph) (1.10.0)\n",
      "Requirement already satisfied: pytz in c:\\users\\bison\\anaconda3\\envs\\python3-11\\lib\\site-packages (from neo4j>=5.26.0->graphiti-core) (2023.3.post1)\n",
      "Requirement already satisfied: executing>=1.2.0 in c:\\users\\bison\\anaconda3\\envs\\python3-11\\lib\\site-packages (from stack_data->ipython>=6.1.0->ipywidgets) (2.2.0)\n",
      "Requirement already satisfied: asttokens>=2.1.0 in c:\\users\\bison\\anaconda3\\envs\\python3-11\\lib\\site-packages (from stack_data->ipython>=6.1.0->ipywidgets) (3.0.0)\n",
      "Requirement already satisfied: pure-eval in c:\\users\\bison\\anaconda3\\envs\\python3-11\\lib\\site-packages (from stack_data->ipython>=6.1.0->ipywidgets) (0.2.3)\n",
      "Note: you may need to restart the kernel to use updated packages.\n"
     ]
    },
    {
     "name": "stderr",
     "output_type": "stream",
     "text": [
      "\n",
      "[notice] A new release of pip is available: 25.1 -> 25.1.1\n",
      "[notice] To update, run: python.exe -m pip install --upgrade pip\n"
     ]
    }
   ],
   "source": [
    "%pip install graphiti-core langchain-openai langgraph ipywidgets"
   ]
  },
  {
   "cell_type": "markdown",
   "metadata": {},
   "source": [
    "## Run agent"
   ]
  },
  {
   "cell_type": "code",
   "execution_count": 2,
   "metadata": {},
   "outputs": [
    {
     "data": {
      "application/vnd.jupyter.widget-view+json": {
       "model_id": "d7dc47ca1e784808a1b3636b92db7523",
       "version_major": 2,
       "version_minor": 0
      },
      "text/plain": [
       "VBox(children=(Text(value='', placeholder='Type your message here...'), Button(description='Send', style=Butto…"
      ]
     },
     "metadata": {},
     "output_type": "display_data"
    }
   ],
   "source": [
    "from logger import logger\n",
    "\n",
    "from rag_graphiti_client import client,llm\n",
    "\n",
    "from langgraph.checkpoint.memory import MemorySaver\n",
    "from langgraph.graph import END, START, StateGraph\n",
    "from langgraph.prebuilt import ToolNode\n",
    "from rag_graphiti_mcp_tools import get_table_columns\n",
    "\n",
    "tools = [get_table_columns]\n",
    "tool_node = ToolNode(tools)\n",
    "\n",
    "llm_with_tools = llm.bind_tools(tools)\n",
    "\n",
    "from rag_graphiti_chatbot import Chatbot,State\n",
    "chatbot = Chatbot(\n",
    "    llm=llm_with_tools,\n",
    "    graphiti=client\n",
    ")\n",
    "\n",
    "graph_builder = StateGraph(State)\n",
    "\n",
    "memory = MemorySaver()\n",
    "\n",
    "# Define the function that determines whether to continue or not\n",
    "async def should_continue(state, config):\n",
    "    # logger.info(f\"should_continue state: {state}\")\n",
    "    messages = state['messages']\n",
    "    last_message = messages[-1]\n",
    "    # If there is no function call, then we finish\n",
    "    if not last_message.tool_calls:\n",
    "        return 'end'\n",
    "    # Otherwise if there is, we continue\n",
    "    else:\n",
    "        return 'continue'\n",
    "\n",
    "graph_builder.add_node('agent', chatbot.generate_chatbot_response)\n",
    "graph_builder.add_node('tools', tool_node)\n",
    "\n",
    "graph_builder.add_edge(START, 'agent')\n",
    "graph_builder.add_conditional_edges('agent', should_continue, {'continue': 'tools', 'end': END})\n",
    "graph_builder.add_edge('tools', 'agent')\n",
    "\n",
    "graph = graph_builder.compile(checkpointer=memory)\n",
    "\n",
    "from rag_graphiti_user import query_user,create_user\n",
    "user_name = \"tcq\"\n",
    "user_node_uuid = await query_user(user_name)\n",
    "if user_node_uuid is None:\n",
    "    user_node_uuid = await create_user(user_name)\n",
    "user_state = State(\n",
    "    user_name=user_name, \n",
    "    user_node_uuid=user_node_uuid\n",
    ")\n",
    "\n",
    "from rag_graphiti_agent import Agent,AgentRun\n",
    "agent = Agent(graph)\n",
    "agentRun:AgentRun = agent.run(user_state=user_state)\n",
    "\n",
    "import ipywidgets as widgets\n",
    "from IPython.display import display\n",
    "conversation_output = widgets.Output()\n",
    "input_box = widgets.Text(placeholder='Type your message here...')\n",
    "submit_button = widgets.Button(description='Send')\n",
    "\n",
    "import asyncio\n",
    "def on_submit(b):\n",
    "    user_input = input_box.value\n",
    "    input_box.value = ''\n",
    "    conversation_output.append_stdout(f'\\nUser: {user_input}\\n')\n",
    "    conversation_output.append_stdout('\\nAssistant: ')\n",
    "    asyncio.create_task(agentRun.process_user_message(user_input)) \n",
    "submit_button.on_click(on_submit)\n",
    "display(widgets.VBox([input_box, submit_button, conversation_output]))\n",
    "\n",
    "def update_conversation_output():\n",
    "    while True:\n",
    "        system_message = agentRun.system_message_output.get_stdout()\n",
    "        if system_message != None:\n",
    "            conversation_output.append_stdout(system_message)\n",
    "import threading\n",
    "threading.Thread(target=update_conversation_output).start()\n"
   ]
  }
 ],
 "metadata": {
  "kernelspec": {
   "display_name": "python3-11",
   "language": "python",
   "name": "python3"
  },
  "language_info": {
   "codemirror_mode": {
    "name": "ipython",
    "version": 3
   },
   "file_extension": ".py",
   "mimetype": "text/x-python",
   "name": "python",
   "nbconvert_exporter": "python",
   "pygments_lexer": "ipython3",
   "version": "3.11.7"
  }
 },
 "nbformat": 4,
 "nbformat_minor": 2
}
